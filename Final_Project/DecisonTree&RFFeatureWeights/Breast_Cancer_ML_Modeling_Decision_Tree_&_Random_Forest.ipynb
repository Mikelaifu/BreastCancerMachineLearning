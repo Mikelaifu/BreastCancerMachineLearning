{
 "cells": [
  {
   "cell_type": "code",
   "execution_count": 1,
   "metadata": {},
   "outputs": [],
   "source": [
    "import mglearn\n",
    "import matplotlib.pyplot as plt\n",
    "%matplotlib inline\n",
    "import pandas as pd\n",
    "from sklearn.tree import DecisionTreeClassifier\n",
    "from sklearn.model_selection import train_test_split"
   ]
  },
  {
   "cell_type": "code",
   "execution_count": 2,
   "metadata": {},
   "outputs": [
    {
     "name": "stdout",
     "output_type": "stream",
     "text": [
      "Accuracy on the training subset: 1.000\n",
      "Accuracy on the testing subset: 0.937\n"
     ]
    }
   ],
   "source": [
    "cancer = pd.read_csv('breast_cancer.csv')\n",
    "\n",
    "X_train, X_test, y_train, y_test = train_test_split(cancer.loc[:,\"mean radius\":\"worst fractal dimension\"],cancer['target'], stratify=cancer['target'], random_state=42)\n",
    "\n",
    "tree_model = DecisionTreeClassifier(random_state=0)\n",
    "tree_model.fit(X_train, y_train)\n",
    "\n",
    "print('Accuracy on the training subset: {:.3f}'.format(tree_model.score(X_train, y_train)))\n",
    "print('Accuracy on the testing subset: {:.3f}'.format(tree_model.score(X_test, y_test)))"
   ]
  },
  {
   "cell_type": "code",
   "execution_count": 3,
   "metadata": {},
   "outputs": [],
   "source": [
    "cancer_feature = list(cancer.columns)\n",
    "del cancer_feature[0]"
   ]
  },
  {
   "cell_type": "code",
   "execution_count": 4,
   "metadata": {},
   "outputs": [
    {
     "data": {
      "text/plain": [
       "['mean radius',\n",
       " 'mean texture',\n",
       " 'mean perimeter',\n",
       " 'mean area',\n",
       " 'mean smoothness',\n",
       " 'mean compactness',\n",
       " 'mean concavity',\n",
       " 'mean concave points',\n",
       " 'mean symmetry',\n",
       " 'mean fractal dimension',\n",
       " 'radius error',\n",
       " 'texture error',\n",
       " 'perimeter error',\n",
       " 'area error',\n",
       " 'smoothness error',\n",
       " 'compactness error',\n",
       " 'concavity error',\n",
       " 'concave points error',\n",
       " 'symmetry error',\n",
       " 'fractal dimension error',\n",
       " 'worst radius',\n",
       " 'worst texture',\n",
       " 'worst perimeter',\n",
       " 'worst area',\n",
       " 'worst smoothness',\n",
       " 'worst compactness',\n",
       " 'worst concavity',\n",
       " 'worst concave points',\n",
       " 'worst symmetry',\n",
       " 'worst fractal dimension']"
      ]
     },
     "execution_count": 4,
     "metadata": {},
     "output_type": "execute_result"
    }
   ],
   "source": [
    "cancer_feature"
   ]
  },
  {
   "cell_type": "code",
   "execution_count": 5,
   "metadata": {},
   "outputs": [
    {
     "data": {
      "text/plain": [
       "DecisionTreeClassifier(class_weight=None, criterion='gini', max_depth=None,\n",
       "            max_features=None, max_leaf_nodes=None,\n",
       "            min_impurity_decrease=0.0, min_impurity_split=None,\n",
       "            min_samples_leaf=1, min_samples_split=2,\n",
       "            min_weight_fraction_leaf=0.0, presort=False, random_state=0,\n",
       "            splitter='best')"
      ]
     },
     "execution_count": 5,
     "metadata": {},
     "output_type": "execute_result"
    }
   ],
   "source": [
    "### we have some overfitting here, i need to contraol the development of tree\n",
    "tree_model"
   ]
  },
  {
   "cell_type": "code",
   "execution_count": 6,
   "metadata": {},
   "outputs": [
    {
     "name": "stdout",
     "output_type": "stream",
     "text": [
      "Accuracy on the training subset: 0.977\n",
      "Accuracy on the testing subset: 0.944\n"
     ]
    }
   ],
   "source": [
    "tree_model = DecisionTreeClassifier(max_depth=3, random_state=0)\n",
    "tree_model.fit(X_train, y_train)\n",
    "print('Accuracy on the training subset: {:.3f}'.format(tree_model.score(X_train, y_train)))\n",
    "print('Accuracy on the testing subset: {:.3f}'.format(tree_model.score(X_test, y_test)))"
   ]
  },
  {
   "cell_type": "code",
   "execution_count": 7,
   "metadata": {},
   "outputs": [
    {
     "name": "stdout",
     "output_type": "stream",
     "text": [
      "Accuracy on the training subset: 0.988\n",
      "Accuracy on the testing subset: 0.951\n"
     ]
    }
   ],
   "source": [
    "tree_model = DecisionTreeClassifier(max_depth=4, random_state=0)\n",
    "tree_model.fit(X_train, y_train)\n",
    "print('Accuracy on the training subset: {:.3f}'.format(tree_model.score(X_train, y_train)))\n",
    "print('Accuracy on the testing subset: {:.3f}'.format(tree_model.score(X_test, y_test)))"
   ]
  },
  {
   "cell_type": "code",
   "execution_count": 8,
   "metadata": {},
   "outputs": [
    {
     "data": {
      "image/svg+xml": [
       "<?xml version=\"1.0\" encoding=\"UTF-8\" standalone=\"no\"?>\n",
       "<!DOCTYPE svg PUBLIC \"-//W3C//DTD SVG 1.1//EN\"\n",
       " \"http://www.w3.org/Graphics/SVG/1.1/DTD/svg11.dtd\">\n",
       "<!-- Generated by graphviz version 2.40.1 (20161225.0304)\n",
       " -->\n",
       "<!-- Title: Tree Pages: 1 -->\n",
       "<svg width=\"901pt\" height=\"477pt\"\n",
       " viewBox=\"0.00 0.00 901.00 477.00\" xmlns=\"http://www.w3.org/2000/svg\" xmlns:xlink=\"http://www.w3.org/1999/xlink\">\n",
       "<g id=\"graph0\" class=\"graph\" transform=\"scale(1 1) rotate(0) translate(4 473)\">\n",
       "<title>Tree</title>\n",
       "<polygon fill=\"#ffffff\" stroke=\"transparent\" points=\"-4,4 -4,-473 897,-473 897,4 -4,4\"/>\n",
       "<!-- 0 -->\n",
       "<g id=\"node1\" class=\"node\">\n",
       "<title>0</title>\n",
       "<path fill=\"#399de5\" fill-opacity=\"0.403922\" stroke=\"#000000\" d=\"M551.5,-469C551.5,-469 458.5,-469 458.5,-469 452.5,-469 446.5,-463 446.5,-457 446.5,-457 446.5,-413 446.5,-413 446.5,-407 452.5,-401 458.5,-401 458.5,-401 551.5,-401 551.5,-401 557.5,-401 563.5,-407 563.5,-413 563.5,-413 563.5,-457 563.5,-457 563.5,-463 557.5,-469 551.5,-469\"/>\n",
       "<text text-anchor=\"start\" x=\"454.5\" y=\"-453.8\" font-family=\"Helvetica,sans-Serif\" font-size=\"14.00\" fill=\"#000000\">worst radius ≤ 16.795</text>\n",
       "<text text-anchor=\"start\" x=\"470.5\" y=\"-438.8\" font-family=\"Helvetica,sans-Serif\" font-size=\"14.00\" fill=\"#000000\">samples = 426</text>\n",
       "<text text-anchor=\"start\" x=\"463\" y=\"-423.8\" font-family=\"Helvetica,sans-Serif\" font-size=\"14.00\" fill=\"#000000\">value = [159, 267]</text>\n",
       "<text text-anchor=\"start\" x=\"471\" y=\"-408.8\" font-family=\"Helvetica,sans-Serif\" font-size=\"14.00\" fill=\"#000000\">class = benign</text>\n",
       "</g>\n",
       "<!-- 1 -->\n",
       "<g id=\"node2\" class=\"node\">\n",
       "<title>1</title>\n",
       "<path fill=\"#399de5\" fill-opacity=\"0.901961\" stroke=\"#000000\" d=\"M467,-365C467,-365 339,-365 339,-365 333,-365 327,-359 327,-353 327,-353 327,-309 327,-309 327,-303 333,-297 339,-297 339,-297 467,-297 467,-297 473,-297 479,-303 479,-309 479,-309 479,-353 479,-353 479,-359 473,-365 467,-365\"/>\n",
       "<text text-anchor=\"start\" x=\"335\" y=\"-349.8\" font-family=\"Helvetica,sans-Serif\" font-size=\"14.00\" fill=\"#000000\">worst concave points ≤ 0.136</text>\n",
       "<text text-anchor=\"start\" x=\"368.5\" y=\"-334.8\" font-family=\"Helvetica,sans-Serif\" font-size=\"14.00\" fill=\"#000000\">samples = 284</text>\n",
       "<text text-anchor=\"start\" x=\"364\" y=\"-319.8\" font-family=\"Helvetica,sans-Serif\" font-size=\"14.00\" fill=\"#000000\">value = [25, 259]</text>\n",
       "<text text-anchor=\"start\" x=\"369\" y=\"-304.8\" font-family=\"Helvetica,sans-Serif\" font-size=\"14.00\" fill=\"#000000\">class = benign</text>\n",
       "</g>\n",
       "<!-- 0&#45;&gt;1 -->\n",
       "<g id=\"edge1\" class=\"edge\">\n",
       "<title>0&#45;&gt;1</title>\n",
       "<path fill=\"none\" stroke=\"#000000\" d=\"M471.6014,-400.9465C462.6194,-391.7884 452.8072,-381.7838 443.485,-372.2788\"/>\n",
       "<polygon fill=\"#000000\" stroke=\"#000000\" points=\"445.9746,-369.8187 436.4737,-365.13 440.977,-374.7201 445.9746,-369.8187\"/>\n",
       "<text text-anchor=\"middle\" x=\"436.2309\" y=\"-386.4288\" font-family=\"Helvetica,sans-Serif\" font-size=\"14.00\" fill=\"#000000\">True</text>\n",
       "</g>\n",
       "<!-- 14 -->\n",
       "<g id=\"node15\" class=\"node\">\n",
       "<title>14</title>\n",
       "<path fill=\"#e58139\" fill-opacity=\"0.941176\" stroke=\"#000000\" d=\"M611,-365C611,-365 523,-365 523,-365 517,-365 511,-359 511,-353 511,-353 511,-309 511,-309 511,-303 517,-297 523,-297 523,-297 611,-297 611,-297 617,-297 623,-303 623,-309 623,-309 623,-353 623,-353 623,-359 617,-365 611,-365\"/>\n",
       "<text text-anchor=\"start\" x=\"519\" y=\"-349.8\" font-family=\"Helvetica,sans-Serif\" font-size=\"14.00\" fill=\"#000000\">texture error ≤ 0.473</text>\n",
       "<text text-anchor=\"start\" x=\"532.5\" y=\"-334.8\" font-family=\"Helvetica,sans-Serif\" font-size=\"14.00\" fill=\"#000000\">samples = 142</text>\n",
       "<text text-anchor=\"start\" x=\"530.5\" y=\"-319.8\" font-family=\"Helvetica,sans-Serif\" font-size=\"14.00\" fill=\"#000000\">value = [134, 8]</text>\n",
       "<text text-anchor=\"start\" x=\"526\" y=\"-304.8\" font-family=\"Helvetica,sans-Serif\" font-size=\"14.00\" fill=\"#000000\">class = malignant</text>\n",
       "</g>\n",
       "<!-- 0&#45;&gt;14 -->\n",
       "<g id=\"edge14\" class=\"edge\">\n",
       "<title>0&#45;&gt;14</title>\n",
       "<path fill=\"none\" stroke=\"#000000\" d=\"M525.3011,-400.9465C530.4396,-392.3271 536.0251,-382.9579 541.3886,-373.9611\"/>\n",
       "<polygon fill=\"#000000\" stroke=\"#000000\" points=\"544.5389,-375.5117 546.6533,-365.13 538.5263,-371.9272 544.5389,-375.5117\"/>\n",
       "<text text-anchor=\"middle\" x=\"552.7853\" y=\"-385.6663\" font-family=\"Helvetica,sans-Serif\" font-size=\"14.00\" fill=\"#000000\">False</text>\n",
       "</g>\n",
       "<!-- 2 -->\n",
       "<g id=\"node3\" class=\"node\">\n",
       "<title>2</title>\n",
       "<path fill=\"#399de5\" fill-opacity=\"0.984314\" stroke=\"#000000\" d=\"M295,-261C295,-261 211,-261 211,-261 205,-261 199,-255 199,-249 199,-249 199,-205 199,-205 199,-199 205,-193 211,-193 211,-193 295,-193 295,-193 301,-193 307,-199 307,-205 307,-205 307,-249 307,-249 307,-255 301,-261 295,-261\"/>\n",
       "<text text-anchor=\"start\" x=\"207\" y=\"-245.8\" font-family=\"Helvetica,sans-Serif\" font-size=\"14.00\" fill=\"#000000\">radius error ≤ 1.048</text>\n",
       "<text text-anchor=\"start\" x=\"218.5\" y=\"-230.8\" font-family=\"Helvetica,sans-Serif\" font-size=\"14.00\" fill=\"#000000\">samples = 252</text>\n",
       "<text text-anchor=\"start\" x=\"216.5\" y=\"-215.8\" font-family=\"Helvetica,sans-Serif\" font-size=\"14.00\" fill=\"#000000\">value = [4, 248]</text>\n",
       "<text text-anchor=\"start\" x=\"219\" y=\"-200.8\" font-family=\"Helvetica,sans-Serif\" font-size=\"14.00\" fill=\"#000000\">class = benign</text>\n",
       "</g>\n",
       "<!-- 1&#45;&gt;2 -->\n",
       "<g id=\"edge2\" class=\"edge\">\n",
       "<title>1&#45;&gt;2</title>\n",
       "<path fill=\"none\" stroke=\"#000000\" d=\"M353.8844,-296.9465C340.0281,-287.3395 324.8283,-276.8009 310.5261,-266.8848\"/>\n",
       "<polygon fill=\"#000000\" stroke=\"#000000\" points=\"312.4382,-263.9515 302.226,-261.13 308.4497,-269.7041 312.4382,-263.9515\"/>\n",
       "</g>\n",
       "<!-- 7 -->\n",
       "<g id=\"node8\" class=\"node\">\n",
       "<title>7</title>\n",
       "<path fill=\"#e58139\" fill-opacity=\"0.474510\" stroke=\"#000000\" d=\"M448,-261C448,-261 358,-261 358,-261 352,-261 346,-255 346,-249 346,-249 346,-205 346,-205 346,-199 352,-193 358,-193 358,-193 448,-193 448,-193 454,-193 460,-199 460,-205 460,-205 460,-249 460,-249 460,-255 454,-261 448,-261\"/>\n",
       "<text text-anchor=\"start\" x=\"354\" y=\"-245.8\" font-family=\"Helvetica,sans-Serif\" font-size=\"14.00\" fill=\"#000000\">worst texture ≤ 25.62</text>\n",
       "<text text-anchor=\"start\" x=\"371.5\" y=\"-230.8\" font-family=\"Helvetica,sans-Serif\" font-size=\"14.00\" fill=\"#000000\">samples = 32</text>\n",
       "<text text-anchor=\"start\" x=\"366.5\" y=\"-215.8\" font-family=\"Helvetica,sans-Serif\" font-size=\"14.00\" fill=\"#000000\">value = [21, 11]</text>\n",
       "<text text-anchor=\"start\" x=\"362\" y=\"-200.8\" font-family=\"Helvetica,sans-Serif\" font-size=\"14.00\" fill=\"#000000\">class = malignant</text>\n",
       "</g>\n",
       "<!-- 1&#45;&gt;7 -->\n",
       "<g id=\"edge7\" class=\"edge\">\n",
       "<title>1&#45;&gt;7</title>\n",
       "<path fill=\"none\" stroke=\"#000000\" d=\"M403,-296.9465C403,-288.776 403,-279.9318 403,-271.3697\"/>\n",
       "<polygon fill=\"#000000\" stroke=\"#000000\" points=\"406.5001,-271.13 403,-261.13 399.5001,-271.13 406.5001,-271.13\"/>\n",
       "</g>\n",
       "<!-- 3 -->\n",
       "<g id=\"node4\" class=\"node\">\n",
       "<title>3</title>\n",
       "<path fill=\"#399de5\" fill-opacity=\"0.988235\" stroke=\"#000000\" d=\"M174,-157C174,-157 62,-157 62,-157 56,-157 50,-151 50,-145 50,-145 50,-101 50,-101 50,-95 56,-89 62,-89 62,-89 174,-89 174,-89 180,-89 186,-95 186,-101 186,-101 186,-145 186,-145 186,-151 180,-157 174,-157\"/>\n",
       "<text text-anchor=\"start\" x=\"58\" y=\"-141.8\" font-family=\"Helvetica,sans-Serif\" font-size=\"14.00\" fill=\"#000000\">smoothness error ≤ 0.003</text>\n",
       "<text text-anchor=\"start\" x=\"83.5\" y=\"-126.8\" font-family=\"Helvetica,sans-Serif\" font-size=\"14.00\" fill=\"#000000\">samples = 251</text>\n",
       "<text text-anchor=\"start\" x=\"81.5\" y=\"-111.8\" font-family=\"Helvetica,sans-Serif\" font-size=\"14.00\" fill=\"#000000\">value = [3, 248]</text>\n",
       "<text text-anchor=\"start\" x=\"84\" y=\"-96.8\" font-family=\"Helvetica,sans-Serif\" font-size=\"14.00\" fill=\"#000000\">class = benign</text>\n",
       "</g>\n",
       "<!-- 2&#45;&gt;3 -->\n",
       "<g id=\"edge3\" class=\"edge\">\n",
       "<title>2&#45;&gt;3</title>\n",
       "<path fill=\"none\" stroke=\"#000000\" d=\"M208.796,-192.9465C196.5584,-183.519 183.1564,-173.1946 170.4962,-163.4415\"/>\n",
       "<polygon fill=\"#000000\" stroke=\"#000000\" points=\"172.3612,-160.4601 162.3034,-157.13 168.0893,-166.0055 172.3612,-160.4601\"/>\n",
       "</g>\n",
       "<!-- 6 -->\n",
       "<g id=\"node7\" class=\"node\">\n",
       "<title>6</title>\n",
       "<path fill=\"#e58139\" stroke=\"#000000\" d=\"M290,-149.5C290,-149.5 216,-149.5 216,-149.5 210,-149.5 204,-143.5 204,-137.5 204,-137.5 204,-108.5 204,-108.5 204,-102.5 210,-96.5 216,-96.5 216,-96.5 290,-96.5 290,-96.5 296,-96.5 302,-102.5 302,-108.5 302,-108.5 302,-137.5 302,-137.5 302,-143.5 296,-149.5 290,-149.5\"/>\n",
       "<text text-anchor=\"start\" x=\"224.5\" y=\"-134.3\" font-family=\"Helvetica,sans-Serif\" font-size=\"14.00\" fill=\"#000000\">samples = 1</text>\n",
       "<text text-anchor=\"start\" x=\"222.5\" y=\"-119.3\" font-family=\"Helvetica,sans-Serif\" font-size=\"14.00\" fill=\"#000000\">value = [1, 0]</text>\n",
       "<text text-anchor=\"start\" x=\"212\" y=\"-104.3\" font-family=\"Helvetica,sans-Serif\" font-size=\"14.00\" fill=\"#000000\">class = malignant</text>\n",
       "</g>\n",
       "<!-- 2&#45;&gt;6 -->\n",
       "<g id=\"edge6\" class=\"edge\">\n",
       "<title>2&#45;&gt;6</title>\n",
       "<path fill=\"none\" stroke=\"#000000\" d=\"M253,-192.9465C253,-182.2621 253,-170.4254 253,-159.5742\"/>\n",
       "<polygon fill=\"#000000\" stroke=\"#000000\" points=\"256.5001,-159.5421 253,-149.5422 249.5001,-159.5422 256.5001,-159.5421\"/>\n",
       "</g>\n",
       "<!-- 4 -->\n",
       "<g id=\"node5\" class=\"node\">\n",
       "<title>4</title>\n",
       "<path fill=\"#399de5\" fill-opacity=\"0.666667\" stroke=\"#000000\" d=\"M72,-53C72,-53 12,-53 12,-53 6,-53 0,-47 0,-41 0,-41 0,-12 0,-12 0,-6 6,0 12,0 12,0 72,0 72,0 78,0 84,-6 84,-12 84,-12 84,-41 84,-41 84,-47 78,-53 72,-53\"/>\n",
       "<text text-anchor=\"start\" x=\"13.5\" y=\"-37.8\" font-family=\"Helvetica,sans-Serif\" font-size=\"14.00\" fill=\"#000000\">samples = 4</text>\n",
       "<text text-anchor=\"start\" x=\"11.5\" y=\"-22.8\" font-family=\"Helvetica,sans-Serif\" font-size=\"14.00\" fill=\"#000000\">value = [1, 3]</text>\n",
       "<text text-anchor=\"start\" x=\"8\" y=\"-7.8\" font-family=\"Helvetica,sans-Serif\" font-size=\"14.00\" fill=\"#000000\">class = benign</text>\n",
       "</g>\n",
       "<!-- 3&#45;&gt;4 -->\n",
       "<g id=\"edge4\" class=\"edge\">\n",
       "<title>3&#45;&gt;4</title>\n",
       "<path fill=\"none\" stroke=\"#000000\" d=\"M91.2052,-88.9777C84.1378,-80.0039 76.5024,-70.3089 69.4033,-61.295\"/>\n",
       "<polygon fill=\"#000000\" stroke=\"#000000\" points=\"72.003,-58.9391 63.0662,-53.2485 66.5037,-63.2701 72.003,-58.9391\"/>\n",
       "</g>\n",
       "<!-- 5 -->\n",
       "<g id=\"node6\" class=\"node\">\n",
       "<title>5</title>\n",
       "<path fill=\"#399de5\" fill-opacity=\"0.992157\" stroke=\"#000000\" d=\"M179.5,-53C179.5,-53 114.5,-53 114.5,-53 108.5,-53 102.5,-47 102.5,-41 102.5,-41 102.5,-12 102.5,-12 102.5,-6 108.5,0 114.5,0 114.5,0 179.5,0 179.5,0 185.5,0 191.5,-6 191.5,-12 191.5,-12 191.5,-41 191.5,-41 191.5,-47 185.5,-53 179.5,-53\"/>\n",
       "<text text-anchor=\"start\" x=\"112.5\" y=\"-37.8\" font-family=\"Helvetica,sans-Serif\" font-size=\"14.00\" fill=\"#000000\">samples = 247</text>\n",
       "<text text-anchor=\"start\" x=\"110.5\" y=\"-22.8\" font-family=\"Helvetica,sans-Serif\" font-size=\"14.00\" fill=\"#000000\">value = [2, 245]</text>\n",
       "<text text-anchor=\"start\" x=\"113\" y=\"-7.8\" font-family=\"Helvetica,sans-Serif\" font-size=\"14.00\" fill=\"#000000\">class = benign</text>\n",
       "</g>\n",
       "<!-- 3&#45;&gt;5 -->\n",
       "<g id=\"edge5\" class=\"edge\">\n",
       "<title>3&#45;&gt;5</title>\n",
       "<path fill=\"none\" stroke=\"#000000\" d=\"M128.2243,-88.9777C130.756,-80.5533 133.4787,-71.4934 136.0437,-62.9579\"/>\n",
       "<polygon fill=\"#000000\" stroke=\"#000000\" points=\"139.4354,-63.8327 138.9616,-53.2485 132.7316,-61.818 139.4354,-63.8327\"/>\n",
       "</g>\n",
       "<!-- 8 -->\n",
       "<g id=\"node9\" class=\"node\">\n",
       "<title>8</title>\n",
       "<path fill=\"#399de5\" fill-opacity=\"0.666667\" stroke=\"#000000\" d=\"M447.5,-157C447.5,-157 332.5,-157 332.5,-157 326.5,-157 320.5,-151 320.5,-145 320.5,-145 320.5,-101 320.5,-101 320.5,-95 326.5,-89 332.5,-89 332.5,-89 447.5,-89 447.5,-89 453.5,-89 459.5,-95 459.5,-101 459.5,-101 459.5,-145 459.5,-145 459.5,-151 453.5,-157 447.5,-157\"/>\n",
       "<text text-anchor=\"start\" x=\"328.5\" y=\"-141.8\" font-family=\"Helvetica,sans-Serif\" font-size=\"14.00\" fill=\"#000000\">worst smoothness ≤ 0.179</text>\n",
       "<text text-anchor=\"start\" x=\"358.5\" y=\"-126.8\" font-family=\"Helvetica,sans-Serif\" font-size=\"14.00\" fill=\"#000000\">samples = 12</text>\n",
       "<text text-anchor=\"start\" x=\"359.5\" y=\"-111.8\" font-family=\"Helvetica,sans-Serif\" font-size=\"14.00\" fill=\"#000000\">value = [3, 9]</text>\n",
       "<text text-anchor=\"start\" x=\"356\" y=\"-96.8\" font-family=\"Helvetica,sans-Serif\" font-size=\"14.00\" fill=\"#000000\">class = benign</text>\n",
       "</g>\n",
       "<!-- 7&#45;&gt;8 -->\n",
       "<g id=\"edge8\" class=\"edge\">\n",
       "<title>7&#45;&gt;8</title>\n",
       "<path fill=\"none\" stroke=\"#000000\" d=\"M398.7433,-192.9465C397.7108,-184.6863 396.5922,-175.7374 395.5109,-167.0875\"/>\n",
       "<polygon fill=\"#000000\" stroke=\"#000000\" points=\"398.9797,-166.6186 394.2662,-157.13 392.0337,-167.4869 398.9797,-166.6186\"/>\n",
       "</g>\n",
       "<!-- 11 -->\n",
       "<g id=\"node12\" class=\"node\">\n",
       "<title>11</title>\n",
       "<path fill=\"#e58139\" fill-opacity=\"0.890196\" stroke=\"#000000\" d=\"M594,-157C594,-157 490,-157 490,-157 484,-157 478,-151 478,-145 478,-145 478,-101 478,-101 478,-95 484,-89 490,-89 490,-89 594,-89 594,-89 600,-89 606,-95 606,-101 606,-101 606,-145 606,-145 606,-151 600,-157 594,-157\"/>\n",
       "<text text-anchor=\"start\" x=\"486\" y=\"-141.8\" font-family=\"Helvetica,sans-Serif\" font-size=\"14.00\" fill=\"#000000\">worst symmetry ≤ 0.268</text>\n",
       "<text text-anchor=\"start\" x=\"510.5\" y=\"-126.8\" font-family=\"Helvetica,sans-Serif\" font-size=\"14.00\" fill=\"#000000\">samples = 20</text>\n",
       "<text text-anchor=\"start\" x=\"508.5\" y=\"-111.8\" font-family=\"Helvetica,sans-Serif\" font-size=\"14.00\" fill=\"#000000\">value = [18, 2]</text>\n",
       "<text text-anchor=\"start\" x=\"501\" y=\"-96.8\" font-family=\"Helvetica,sans-Serif\" font-size=\"14.00\" fill=\"#000000\">class = malignant</text>\n",
       "</g>\n",
       "<!-- 7&#45;&gt;11 -->\n",
       "<g id=\"edge11\" class=\"edge\">\n",
       "<title>7&#45;&gt;11</title>\n",
       "<path fill=\"none\" stroke=\"#000000\" d=\"M448.5138,-192.9465C461.234,-183.4293 475.176,-172.9978 488.3206,-163.163\"/>\n",
       "<polygon fill=\"#000000\" stroke=\"#000000\" points=\"490.4738,-165.9232 496.3839,-157.13 486.2802,-160.3184 490.4738,-165.9232\"/>\n",
       "</g>\n",
       "<!-- 9 -->\n",
       "<g id=\"node10\" class=\"node\">\n",
       "<title>9</title>\n",
       "<path fill=\"#399de5\" fill-opacity=\"0.890196\" stroke=\"#000000\" d=\"M311,-53C311,-53 251,-53 251,-53 245,-53 239,-47 239,-41 239,-41 239,-12 239,-12 239,-6 245,0 251,0 251,0 311,0 311,0 317,0 323,-6 323,-12 323,-12 323,-41 323,-41 323,-47 317,-53 311,-53\"/>\n",
       "<text text-anchor=\"start\" x=\"249.5\" y=\"-37.8\" font-family=\"Helvetica,sans-Serif\" font-size=\"14.00\" fill=\"#000000\">samples = 10</text>\n",
       "<text text-anchor=\"start\" x=\"250.5\" y=\"-22.8\" font-family=\"Helvetica,sans-Serif\" font-size=\"14.00\" fill=\"#000000\">value = [1, 9]</text>\n",
       "<text text-anchor=\"start\" x=\"247\" y=\"-7.8\" font-family=\"Helvetica,sans-Serif\" font-size=\"14.00\" fill=\"#000000\">class = benign</text>\n",
       "</g>\n",
       "<!-- 8&#45;&gt;9 -->\n",
       "<g id=\"edge9\" class=\"edge\">\n",
       "<title>8&#45;&gt;9</title>\n",
       "<path fill=\"none\" stroke=\"#000000\" d=\"M351.5707,-88.9777C340.9173,-79.546 329.3641,-69.3178 318.7499,-59.9208\"/>\n",
       "<polygon fill=\"#000000\" stroke=\"#000000\" points=\"321.0207,-57.2566 311.2133,-53.2485 316.3806,-62.4978 321.0207,-57.2566\"/>\n",
       "</g>\n",
       "<!-- 10 -->\n",
       "<g id=\"node11\" class=\"node\">\n",
       "<title>10</title>\n",
       "<path fill=\"#e58139\" stroke=\"#000000\" d=\"M427,-53C427,-53 353,-53 353,-53 347,-53 341,-47 341,-41 341,-41 341,-12 341,-12 341,-6 347,0 353,0 353,0 427,0 427,0 433,0 439,-6 439,-12 439,-12 439,-41 439,-41 439,-47 433,-53 427,-53\"/>\n",
       "<text text-anchor=\"start\" x=\"361.5\" y=\"-37.8\" font-family=\"Helvetica,sans-Serif\" font-size=\"14.00\" fill=\"#000000\">samples = 2</text>\n",
       "<text text-anchor=\"start\" x=\"359.5\" y=\"-22.8\" font-family=\"Helvetica,sans-Serif\" font-size=\"14.00\" fill=\"#000000\">value = [2, 0]</text>\n",
       "<text text-anchor=\"start\" x=\"349\" y=\"-7.8\" font-family=\"Helvetica,sans-Serif\" font-size=\"14.00\" fill=\"#000000\">class = malignant</text>\n",
       "</g>\n",
       "<!-- 8&#45;&gt;10 -->\n",
       "<g id=\"edge10\" class=\"edge\">\n",
       "<title>8&#45;&gt;10</title>\n",
       "<path fill=\"none\" stroke=\"#000000\" d=\"M390,-88.9777C390,-80.7364 390,-71.887 390,-63.5153\"/>\n",
       "<polygon fill=\"#000000\" stroke=\"#000000\" points=\"393.5001,-63.2484 390,-53.2485 386.5001,-63.2485 393.5001,-63.2484\"/>\n",
       "</g>\n",
       "<!-- 12 -->\n",
       "<g id=\"node13\" class=\"node\">\n",
       "<title>12</title>\n",
       "<path fill=\"#399de5\" fill-opacity=\"0.498039\" stroke=\"#000000\" d=\"M529,-53C529,-53 469,-53 469,-53 463,-53 457,-47 457,-41 457,-41 457,-12 457,-12 457,-6 463,0 469,0 469,0 529,0 529,0 535,0 541,-6 541,-12 541,-12 541,-41 541,-41 541,-47 535,-53 529,-53\"/>\n",
       "<text text-anchor=\"start\" x=\"470.5\" y=\"-37.8\" font-family=\"Helvetica,sans-Serif\" font-size=\"14.00\" fill=\"#000000\">samples = 3</text>\n",
       "<text text-anchor=\"start\" x=\"468.5\" y=\"-22.8\" font-family=\"Helvetica,sans-Serif\" font-size=\"14.00\" fill=\"#000000\">value = [1, 2]</text>\n",
       "<text text-anchor=\"start\" x=\"465\" y=\"-7.8\" font-family=\"Helvetica,sans-Serif\" font-size=\"14.00\" fill=\"#000000\">class = benign</text>\n",
       "</g>\n",
       "<!-- 11&#45;&gt;12 -->\n",
       "<g id=\"edge12\" class=\"edge\">\n",
       "<title>11&#45;&gt;12</title>\n",
       "<path fill=\"none\" stroke=\"#000000\" d=\"M526.8398,-88.9777C523.0043,-80.3702 518.8732,-71.0992 514.9978,-62.402\"/>\n",
       "<polygon fill=\"#000000\" stroke=\"#000000\" points=\"518.1862,-60.9581 510.919,-53.2485 511.7923,-63.8073 518.1862,-60.9581\"/>\n",
       "</g>\n",
       "<!-- 13 -->\n",
       "<g id=\"node14\" class=\"node\">\n",
       "<title>13</title>\n",
       "<path fill=\"#e58139\" stroke=\"#000000\" d=\"M645,-53C645,-53 571,-53 571,-53 565,-53 559,-47 559,-41 559,-41 559,-12 559,-12 559,-6 565,0 571,0 571,0 645,0 645,0 651,0 657,-6 657,-12 657,-12 657,-41 657,-41 657,-47 651,-53 645,-53\"/>\n",
       "<text text-anchor=\"start\" x=\"576.5\" y=\"-37.8\" font-family=\"Helvetica,sans-Serif\" font-size=\"14.00\" fill=\"#000000\">samples = 17</text>\n",
       "<text text-anchor=\"start\" x=\"574.5\" y=\"-22.8\" font-family=\"Helvetica,sans-Serif\" font-size=\"14.00\" fill=\"#000000\">value = [17, 0]</text>\n",
       "<text text-anchor=\"start\" x=\"567\" y=\"-7.8\" font-family=\"Helvetica,sans-Serif\" font-size=\"14.00\" fill=\"#000000\">class = malignant</text>\n",
       "</g>\n",
       "<!-- 11&#45;&gt;13 -->\n",
       "<g id=\"edge13\" class=\"edge\">\n",
       "<title>11&#45;&gt;13</title>\n",
       "<path fill=\"none\" stroke=\"#000000\" d=\"M565.2691,-88.9777C571.344,-80.0954 577.9021,-70.5067 584.0135,-61.5711\"/>\n",
       "<polygon fill=\"#000000\" stroke=\"#000000\" points=\"586.9493,-63.4785 589.7057,-53.2485 581.1714,-59.5267 586.9493,-63.4785\"/>\n",
       "</g>\n",
       "<!-- 15 -->\n",
       "<g id=\"node16\" class=\"node\">\n",
       "<title>15</title>\n",
       "<path fill=\"#399de5\" stroke=\"#000000\" d=\"M597,-253.5C597,-253.5 537,-253.5 537,-253.5 531,-253.5 525,-247.5 525,-241.5 525,-241.5 525,-212.5 525,-212.5 525,-206.5 531,-200.5 537,-200.5 537,-200.5 597,-200.5 597,-200.5 603,-200.5 609,-206.5 609,-212.5 609,-212.5 609,-241.5 609,-241.5 609,-247.5 603,-253.5 597,-253.5\"/>\n",
       "<text text-anchor=\"start\" x=\"538.5\" y=\"-238.3\" font-family=\"Helvetica,sans-Serif\" font-size=\"14.00\" fill=\"#000000\">samples = 5</text>\n",
       "<text text-anchor=\"start\" x=\"536.5\" y=\"-223.3\" font-family=\"Helvetica,sans-Serif\" font-size=\"14.00\" fill=\"#000000\">value = [0, 5]</text>\n",
       "<text text-anchor=\"start\" x=\"533\" y=\"-208.3\" font-family=\"Helvetica,sans-Serif\" font-size=\"14.00\" fill=\"#000000\">class = benign</text>\n",
       "</g>\n",
       "<!-- 14&#45;&gt;15 -->\n",
       "<g id=\"edge15\" class=\"edge\">\n",
       "<title>14&#45;&gt;15</title>\n",
       "<path fill=\"none\" stroke=\"#000000\" d=\"M567,-296.9465C567,-286.2621 567,-274.4254 567,-263.5742\"/>\n",
       "<polygon fill=\"#000000\" stroke=\"#000000\" points=\"570.5001,-263.5421 567,-253.5422 563.5001,-263.5422 570.5001,-263.5421\"/>\n",
       "</g>\n",
       "<!-- 16 -->\n",
       "<g id=\"node17\" class=\"node\">\n",
       "<title>16</title>\n",
       "<path fill=\"#e58139\" fill-opacity=\"0.976471\" stroke=\"#000000\" d=\"M768,-261C768,-261 666,-261 666,-261 660,-261 654,-255 654,-249 654,-249 654,-205 654,-205 654,-199 660,-193 666,-193 666,-193 768,-193 768,-193 774,-193 780,-199 780,-205 780,-205 780,-249 780,-249 780,-255 774,-261 768,-261\"/>\n",
       "<text text-anchor=\"start\" x=\"662\" y=\"-245.8\" font-family=\"Helvetica,sans-Serif\" font-size=\"14.00\" fill=\"#000000\">worst concavity ≤ 0.191</text>\n",
       "<text text-anchor=\"start\" x=\"682.5\" y=\"-230.8\" font-family=\"Helvetica,sans-Serif\" font-size=\"14.00\" fill=\"#000000\">samples = 137</text>\n",
       "<text text-anchor=\"start\" x=\"680.5\" y=\"-215.8\" font-family=\"Helvetica,sans-Serif\" font-size=\"14.00\" fill=\"#000000\">value = [134, 3]</text>\n",
       "<text text-anchor=\"start\" x=\"676\" y=\"-200.8\" font-family=\"Helvetica,sans-Serif\" font-size=\"14.00\" fill=\"#000000\">class = malignant</text>\n",
       "</g>\n",
       "<!-- 14&#45;&gt;16 -->\n",
       "<g id=\"edge16\" class=\"edge\">\n",
       "<title>14&#45;&gt;16</title>\n",
       "<path fill=\"none\" stroke=\"#000000\" d=\"M616.1156,-296.9465C629.9719,-287.3395 645.1717,-276.8009 659.4739,-266.8848\"/>\n",
       "<polygon fill=\"#000000\" stroke=\"#000000\" points=\"661.5503,-269.7041 667.774,-261.13 657.5618,-263.9515 661.5503,-269.7041\"/>\n",
       "</g>\n",
       "<!-- 17 -->\n",
       "<g id=\"node18\" class=\"node\">\n",
       "<title>17</title>\n",
       "<path fill=\"#399de5\" fill-opacity=\"0.333333\" stroke=\"#000000\" d=\"M765,-157C765,-157 669,-157 669,-157 663,-157 657,-151 657,-145 657,-145 657,-101 657,-101 657,-95 663,-89 669,-89 669,-89 765,-89 765,-89 771,-89 777,-95 777,-101 777,-101 777,-145 777,-145 777,-151 771,-157 765,-157\"/>\n",
       "<text text-anchor=\"start\" x=\"665\" y=\"-141.8\" font-family=\"Helvetica,sans-Serif\" font-size=\"14.00\" fill=\"#000000\">worst texture ≤ 30.975</text>\n",
       "<text text-anchor=\"start\" x=\"688.5\" y=\"-126.8\" font-family=\"Helvetica,sans-Serif\" font-size=\"14.00\" fill=\"#000000\">samples = 5</text>\n",
       "<text text-anchor=\"start\" x=\"686.5\" y=\"-111.8\" font-family=\"Helvetica,sans-Serif\" font-size=\"14.00\" fill=\"#000000\">value = [2, 3]</text>\n",
       "<text text-anchor=\"start\" x=\"683\" y=\"-96.8\" font-family=\"Helvetica,sans-Serif\" font-size=\"14.00\" fill=\"#000000\">class = benign</text>\n",
       "</g>\n",
       "<!-- 16&#45;&gt;17 -->\n",
       "<g id=\"edge17\" class=\"edge\">\n",
       "<title>16&#45;&gt;17</title>\n",
       "<path fill=\"none\" stroke=\"#000000\" d=\"M717,-192.9465C717,-184.776 717,-175.9318 717,-167.3697\"/>\n",
       "<polygon fill=\"#000000\" stroke=\"#000000\" points=\"720.5001,-167.13 717,-157.13 713.5001,-167.13 720.5001,-167.13\"/>\n",
       "</g>\n",
       "<!-- 20 -->\n",
       "<g id=\"node21\" class=\"node\">\n",
       "<title>20</title>\n",
       "<path fill=\"#e58139\" stroke=\"#000000\" d=\"M881,-149.5C881,-149.5 807,-149.5 807,-149.5 801,-149.5 795,-143.5 795,-137.5 795,-137.5 795,-108.5 795,-108.5 795,-102.5 801,-96.5 807,-96.5 807,-96.5 881,-96.5 881,-96.5 887,-96.5 893,-102.5 893,-108.5 893,-108.5 893,-137.5 893,-137.5 893,-143.5 887,-149.5 881,-149.5\"/>\n",
       "<text text-anchor=\"start\" x=\"809.5\" y=\"-134.3\" font-family=\"Helvetica,sans-Serif\" font-size=\"14.00\" fill=\"#000000\">samples = 132</text>\n",
       "<text text-anchor=\"start\" x=\"807.5\" y=\"-119.3\" font-family=\"Helvetica,sans-Serif\" font-size=\"14.00\" fill=\"#000000\">value = [132, 0]</text>\n",
       "<text text-anchor=\"start\" x=\"803\" y=\"-104.3\" font-family=\"Helvetica,sans-Serif\" font-size=\"14.00\" fill=\"#000000\">class = malignant</text>\n",
       "</g>\n",
       "<!-- 16&#45;&gt;20 -->\n",
       "<g id=\"edge20\" class=\"edge\">\n",
       "<title>16&#45;&gt;20</title>\n",
       "<path fill=\"none\" stroke=\"#000000\" d=\"M758.5845,-192.9465C773.1115,-181.0504 789.3827,-167.726 803.7951,-155.9237\"/>\n",
       "<polygon fill=\"#000000\" stroke=\"#000000\" points=\"806.0686,-158.5858 811.5879,-149.5422 801.6335,-153.17 806.0686,-158.5858\"/>\n",
       "</g>\n",
       "<!-- 18 -->\n",
       "<g id=\"node19\" class=\"node\">\n",
       "<title>18</title>\n",
       "<path fill=\"#399de5\" stroke=\"#000000\" d=\"M747,-53C747,-53 687,-53 687,-53 681,-53 675,-47 675,-41 675,-41 675,-12 675,-12 675,-6 681,0 687,0 687,0 747,0 747,0 753,0 759,-6 759,-12 759,-12 759,-41 759,-41 759,-47 753,-53 747,-53\"/>\n",
       "<text text-anchor=\"start\" x=\"688.5\" y=\"-37.8\" font-family=\"Helvetica,sans-Serif\" font-size=\"14.00\" fill=\"#000000\">samples = 3</text>\n",
       "<text text-anchor=\"start\" x=\"686.5\" y=\"-22.8\" font-family=\"Helvetica,sans-Serif\" font-size=\"14.00\" fill=\"#000000\">value = [0, 3]</text>\n",
       "<text text-anchor=\"start\" x=\"683\" y=\"-7.8\" font-family=\"Helvetica,sans-Serif\" font-size=\"14.00\" fill=\"#000000\">class = benign</text>\n",
       "</g>\n",
       "<!-- 17&#45;&gt;18 -->\n",
       "<g id=\"edge18\" class=\"edge\">\n",
       "<title>17&#45;&gt;18</title>\n",
       "<path fill=\"none\" stroke=\"#000000\" d=\"M717,-88.9777C717,-80.7364 717,-71.887 717,-63.5153\"/>\n",
       "<polygon fill=\"#000000\" stroke=\"#000000\" points=\"720.5001,-63.2484 717,-53.2485 713.5001,-63.2485 720.5001,-63.2484\"/>\n",
       "</g>\n",
       "<!-- 19 -->\n",
       "<g id=\"node20\" class=\"node\">\n",
       "<title>19</title>\n",
       "<path fill=\"#e58139\" stroke=\"#000000\" d=\"M863,-53C863,-53 789,-53 789,-53 783,-53 777,-47 777,-41 777,-41 777,-12 777,-12 777,-6 783,0 789,0 789,0 863,0 863,0 869,0 875,-6 875,-12 875,-12 875,-41 875,-41 875,-47 869,-53 863,-53\"/>\n",
       "<text text-anchor=\"start\" x=\"797.5\" y=\"-37.8\" font-family=\"Helvetica,sans-Serif\" font-size=\"14.00\" fill=\"#000000\">samples = 2</text>\n",
       "<text text-anchor=\"start\" x=\"795.5\" y=\"-22.8\" font-family=\"Helvetica,sans-Serif\" font-size=\"14.00\" fill=\"#000000\">value = [2, 0]</text>\n",
       "<text text-anchor=\"start\" x=\"785\" y=\"-7.8\" font-family=\"Helvetica,sans-Serif\" font-size=\"14.00\" fill=\"#000000\">class = malignant</text>\n",
       "</g>\n",
       "<!-- 17&#45;&gt;19 -->\n",
       "<g id=\"edge19\" class=\"edge\">\n",
       "<title>17&#45;&gt;19</title>\n",
       "<path fill=\"none\" stroke=\"#000000\" d=\"M755.4293,-88.9777C766.0827,-79.546 777.6359,-69.3178 788.2501,-59.9208\"/>\n",
       "<polygon fill=\"#000000\" stroke=\"#000000\" points=\"790.6194,-62.4978 795.7867,-53.2485 785.9793,-57.2566 790.6194,-62.4978\"/>\n",
       "</g>\n",
       "</g>\n",
       "</svg>\n"
      ],
      "text/plain": [
       "<graphviz.files.Source at 0x1c0e5b5e10>"
      ]
     },
     "execution_count": 8,
     "metadata": {},
     "output_type": "execute_result"
    }
   ],
   "source": [
    "import graphviz\n",
    "from sklearn import tree\n",
    "from sklearn.tree import export_graphviz\n",
    "\n",
    "data = tree.export_graphviz(tree_model, out_file=None, class_names=['malignant', 'benign'], feature_names=cancer_feature,\n",
    "               impurity=False, filled=True,rounded=True,special_characters=True)\n",
    "import pydotplus\n",
    "graph = pydotplus.graph_from_dot_data(data)\n",
    "graph.write_png('cancerTree.png')\n",
    "\n",
    "graph = graphviz.Source(data)  \n",
    "graph "
   ]
  },
  {
   "cell_type": "markdown",
   "metadata": {},
   "source": [
    "#### return the weights of each features"
   ]
  },
  {
   "cell_type": "code",
   "execution_count": 9,
   "metadata": {},
   "outputs": [
    {
     "name": "stdout",
     "output_type": "stream",
     "text": [
      "feature Importances: [0.         0.         0.         0.         0.         0.\n",
      " 0.         0.         0.         0.         0.01019737 0.04839825\n",
      " 0.         0.         0.0024156  0.         0.         0.\n",
      " 0.         0.         0.72682851 0.0458159  0.         0.\n",
      " 0.0141577  0.         0.018188   0.1221132  0.01188548 0.        ]\n"
     ]
    }
   ],
   "source": [
    "print(\"feature Importances: {}\". format(tree_model.feature_importances_))\n",
    "# those arrays return the each weights for each feature but not sure which value accrod to which features\n"
   ]
  },
  {
   "cell_type": "markdown",
   "metadata": {},
   "source": [
    "Viz the weight of each feature"
   ]
  },
  {
   "cell_type": "code",
   "execution_count": 27,
   "metadata": {},
   "outputs": [
    {
     "name": "stdout",
     "output_type": "stream",
     "text": [
      "['seaborn-dark', 'seaborn-darkgrid', 'seaborn-ticks', 'fivethirtyeight', 'seaborn-whitegrid', 'classic', '_classic_test', 'fast', 'seaborn-talk', 'seaborn-dark-palette', 'seaborn-bright', 'seaborn-pastel', 'grayscale', 'seaborn-notebook', 'ggplot', 'seaborn-colorblind', 'seaborn-muted', 'seaborn', 'Solarize_Light2', 'seaborn-paper', 'bmh', 'tableau-colorblind10', 'seaborn-white', 'dark_background', 'seaborn-poster', 'seaborn-deep']\n"
     ]
    }
   ],
   "source": [
    "print(plt.style.available)"
   ]
  },
  {
   "cell_type": "code",
   "execution_count": 34,
   "metadata": {},
   "outputs": [],
   "source": [
    "import matplotlib.pyplot as plt\n",
    "plt.style.use('Solarize_Light2')\n",
    "import matplotlib.pyplot as plt\n",
    "plt.style.use(['dark_background', 'Solarize_Light2'])"
   ]
  },
  {
   "cell_type": "code",
   "execution_count": 37,
   "metadata": {},
   "outputs": [
    {
     "data": {
      "image/png": "[encoded data removed]",
      "text/plain": [
       "<Figure size 432x648 with 1 Axes>"
      ]
     },
     "metadata": {},
     "output_type": "display_data"
    },
    {
     "data": {
      "text/plain": [
       "<Figure size 432x288 with 0 Axes>"
      ]
     },
     "metadata": {},
     "output_type": "display_data"
    }
   ],
   "source": [
    "import numpy as np\n",
    "colors = ['b', 'g', 'r', 'c', 'm', 'y', 'g']\n",
    "plt.figure(figsize = (6,9))\n",
    "plt.barh(range(len(cancer_feature)), tree_model.feature_importances_, color = colors)\n",
    "plt.yticks(np.arange(len(cancer_feature)), cancer_feature, )\n",
    "plt.title(\"Feature Weight Selection(Tree)\", color = 'black')\n",
    "plt.xlabel('Feature Importance')\n",
    "plt.ylabel(\"Features\", color = 'black')\n",
    "plt.show()\n",
    "plt.savefig(\"Feature Weight Selection(Tree).png\")\n",
    "\n",
    "# here are the weight for each features"
   ]
  },
  {
   "cell_type": "markdown",
   "metadata": {},
   "source": [
    "worst symmetry, Worst concave points, worst concavity, worst smoothness, \n",
    "worst texture, worst radius, texture error, radius error are th feature that weights in the model"
   ]
  },
  {
   "cell_type": "markdown",
   "metadata": {},
   "source": [
    "## Random Forest"
   ]
  },
  {
   "cell_type": "code",
   "execution_count": 11,
   "metadata": {},
   "outputs": [
    {
     "name": "stdout",
     "output_type": "stream",
     "text": [
      "Accuracy on the training subset: 1.000\n",
      "Accuracy on the test subset: 0.951\n"
     ]
    }
   ],
   "source": [
    "from sklearn.ensemble import RandomForestClassifier\n",
    "from sklearn.model_selection import train_test_split\n",
    "from sklearn.datasets import load_breast_cancer\n",
    "import matplotlib.pyplot as plt\n",
    "%matplotlib inline\n",
    "import numpy as np\n",
    "import pandas as pd\n",
    "\n",
    "cancer = pd.read_csv('breast_cancer.csv')\n",
    "\n",
    "X_train, X_test, y_train, y_test = train_test_split(cancer.loc[:,\"mean radius\":\"worst fractal dimension\"],cancer['target'], stratify=cancer['target'], random_state=42)\n",
    "\n",
    "forest_model = RandomForestClassifier(random_state=0)\n",
    "forest_model.fit(X_train, y_train)\n",
    "\n",
    "\n",
    "\n",
    "print('Accuracy on the training subset: {:.3f}'.format(forest_model.score(X_train, y_train)))\n",
    "print('Accuracy on the test subset: {:.3f}'.format(forest_model.score(X_test, y_test)))"
   ]
  },
  {
   "cell_type": "code",
   "execution_count": 38,
   "metadata": {},
   "outputs": [
    {
     "data": {
      "image/png": "[encoded data removed]",
      "text/plain": [
       "<Figure size 432x648 with 1 Axes>"
      ]
     },
     "metadata": {},
     "output_type": "display_data"
    },
    {
     "data": {
      "text/plain": [
       "<Figure size 432x288 with 0 Axes>"
      ]
     },
     "metadata": {},
     "output_type": "display_data"
    }
   ],
   "source": [
    "import matplotlib.pyplot as plt\n",
    "plt.style.use('Solarize_Light2')\n",
    "import matplotlib.pyplot as plt\n",
    "plt.style.use('dark_background')\n",
    "colors = ['b', 'g', 'r', 'c', 'm', 'y', 'g']\n",
    "plt.figure(figsize = (6,9))\n",
    "plt.barh(range(len(cancer_feature)), forest_model.feature_importances_, color = colors)\n",
    "plt.yticks(np.arange(len(cancer_feature)), cancer_feature)\n",
    "plt.title(\"Feature Weight Selection(Forest)\")\n",
    "plt.xlabel('Feature Importance')\n",
    "plt.ylabel(\"feature\")\n",
    "plt.show()\n",
    "plt.savefig(\"Feature Weight Selection(Forest).png\")\n"
   ]
  },
  {
   "cell_type": "markdown",
   "metadata": {},
   "source": [
    "### Now we can see forest provide us with more information with weights for features so forest tend to be better model than tree "
   ]
  },
  {
   "cell_type": "code",
   "execution_count": null,
   "metadata": {},
   "outputs": [],
   "source": []
  },
  {
   "cell_type": "code",
   "execution_count": null,
   "metadata": {},
   "outputs": [],
   "source": []
  },
  {
   "cell_type": "code",
   "execution_count": null,
   "metadata": {},
   "outputs": [],
   "source": []
  },
  {
   "cell_type": "code",
   "execution_count": null,
   "metadata": {},
   "outputs": [],
   "source": []
  },
  {
   "cell_type": "code",
   "execution_count": null,
   "metadata": {},
   "outputs": [],
   "source": []
  }
 ],
 "metadata": {
  "kernelspec": {
   "display_name": "Python [conda env:anaconda3]",
   "language": "python",
   "name": "conda-env-anaconda3-py"
  },
  "language_info": {
   "codemirror_mode": {
    "name": "ipython",
    "version": 3
   },
   "file_extension": ".py",
   "mimetype": "text/x-python",
   "name": "python",
   "nbconvert_exporter": "python",
   "pygments_lexer": "ipython3",
   "version": "3.6.5"
  }
 },
 "nbformat": 4,
 "nbformat_minor": 2
}
