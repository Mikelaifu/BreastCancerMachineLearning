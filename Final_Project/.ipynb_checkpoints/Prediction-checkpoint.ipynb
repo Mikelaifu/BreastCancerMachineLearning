{
 "cells": [
  {
   "cell_type": "code",
   "execution_count": 1,
   "metadata": {},
   "outputs": [],
   "source": [
    "# load dependencies\n",
    "\n",
    "import pandas as pd\n",
    "import numpy as np\n",
    "import matplotlib.pyplot as plt\n",
    "import seaborn as sns\n",
    "from sklearn.model_selection import train_test_split\n",
    "from sklearn.preprocessing import MinMaxScaler, Normalizer\n",
    "from sklearn.decomposition import PCA as sklearnPCA\n",
    "from sklearn.metrics import classification_report\n",
    "from sklearn.metrics import confusion_matrix\n",
    "from sklearn.metrics import accuracy_score\n",
    "from sklearn.model_selection import cross_val_score\n",
    "from sklearn.model_selection import KFold\n",
    "from sklearn.tree import DecisionTreeClassifier\n",
    "from sklearn.neighbors import KNeighborsClassifier\n",
    "from sklearn.naive_bayes import GaussianNB\n",
    "from sklearn.pipeline import Pipeline\n",
    "from sklearn.preprocessing import StandardScaler\n",
    "from sklearn.model_selection import GridSearchCV\n",
    "from sklearn.ensemble import RandomForestClassifier\n",
    "from sklearn.neural_network import MLPClassifier\n",
    "from sklearn.svm import SVC\n",
    "import time"
   ]
  },
  {
   "cell_type": "code",
   "execution_count": 2,
   "metadata": {},
   "outputs": [
    {
     "name": "stdout",
     "output_type": "stream",
     "text": [
      "The accuracy on the training subset: 1.000\n",
      "The accuracy on the testing subset: 0.629\n"
     ]
    }
   ],
   "source": [
    "from sklearn.svm import SVC\n",
    "from sklearn.model_selection import train_test_split\n",
    "\n",
    "import pandas as pd\n",
    "import matplotlib.pyplot as plt\n",
    "%matplotlib inline\n",
    "\n",
    "cancer = pd.read_csv('breast_cancer.csv')\n",
    "\n",
    "\n",
    "\n",
    "X_train, X_test, y_train, y_test = train_test_split(cancer.loc[:,\"mean radius\":\"worst fractal dimension\"],cancer['target'], stratify=cancer['target'], random_state=0)\n",
    "\n",
    "svm_model = SVC()\n",
    "svm_model.fit(X_train, y_train)\n",
    "\n",
    "print('The accuracy on the training subset: {:.3f}'.format(svm_model.score(X_train, y_train)))\n",
    "print('The accuracy on the testing subset: {:.3f}'.format(svm_model.score(X_test, y_test)))"
   ]
  },
  {
   "cell_type": "code",
   "execution_count": 3,
   "metadata": {},
   "outputs": [
    {
     "name": "stdout",
     "output_type": "stream",
     "text": [
      "Minimum per feature\n",
      "mean radius                0.0\n",
      "mean texture               0.0\n",
      "mean perimeter             0.0\n",
      "mean area                  0.0\n",
      "mean smoothness            0.0\n",
      "mean compactness           0.0\n",
      "mean concavity             0.0\n",
      "mean concave points        0.0\n",
      "mean symmetry              0.0\n",
      "mean fractal dimension     0.0\n",
      "radius error               0.0\n",
      "texture error              0.0\n",
      "perimeter error            0.0\n",
      "area error                 0.0\n",
      "smoothness error           0.0\n",
      "compactness error          0.0\n",
      "concavity error            0.0\n",
      "concave points error       0.0\n",
      "symmetry error             0.0\n",
      "fractal dimension error    0.0\n",
      "worst radius               0.0\n",
      "worst texture              0.0\n",
      "worst perimeter            0.0\n",
      "worst area                 0.0\n",
      "worst smoothness           0.0\n",
      "worst compactness          0.0\n",
      "worst concavity            0.0\n",
      "worst concave points       0.0\n",
      "worst symmetry             0.0\n",
      "worst fractal dimension    0.0\n",
      "dtype: float64\n",
      "Maximum per feature\n",
      "mean radius                1.0\n",
      "mean texture               1.0\n",
      "mean perimeter             1.0\n",
      "mean area                  1.0\n",
      "mean smoothness            1.0\n",
      "mean compactness           1.0\n",
      "mean concavity             1.0\n",
      "mean concave points        1.0\n",
      "mean symmetry              1.0\n",
      "mean fractal dimension     1.0\n",
      "radius error               1.0\n",
      "texture error              1.0\n",
      "perimeter error            1.0\n",
      "area error                 1.0\n",
      "smoothness error           1.0\n",
      "compactness error          1.0\n",
      "concavity error            1.0\n",
      "concave points error       1.0\n",
      "symmetry error             1.0\n",
      "fractal dimension error    1.0\n",
      "worst radius               1.0\n",
      "worst texture              1.0\n",
      "worst perimeter            1.0\n",
      "worst area                 1.0\n",
      "worst smoothness           1.0\n",
      "worst compactness          1.0\n",
      "worst concavity            1.0\n",
      "worst concave points       1.0\n",
      "worst symmetry             1.0\n",
      "worst fractal dimension    1.0\n",
      "dtype: float64\n"
     ]
    }
   ],
   "source": [
    "min_train = X_train.min(axis=0)\n",
    "range_train = (X_train - min_train).max(axis=0)\n",
    "\n",
    "X_train_scaled = (X_train - min_train)/range_train\n",
    "\n",
    "print('Minimum per feature\\n{}'.format(X_train_scaled.min(axis=0)))\n",
    "print('Maximum per feature\\n{}'.format(X_train_scaled.max(axis=0)))"
   ]
  },
  {
   "cell_type": "code",
   "execution_count": 4,
   "metadata": {},
   "outputs": [
    {
     "name": "stdout",
     "output_type": "stream",
     "text": [
      "The accuracy on the training subset: 0.955\n",
      "The accuracy on the test subset: 0.951\n"
     ]
    }
   ],
   "source": [
    "X_test_scaled = (X_test - min_train)/range_train\n",
    "\n",
    "svm = SVC()\n",
    "svm.fit(X_train_scaled, y_train)\n",
    "\n",
    "print('The accuracy on the training subset: {:.3f}'.format(svm.score(X_train_scaled, y_train)))\n",
    "print('The accuracy on the test subset: {:.3f}'.format(svm.score(X_test_scaled, y_test)))\n",
    "\n",
    "\n"
   ]
  },
  {
   "cell_type": "code",
   "execution_count": 5,
   "metadata": {},
   "outputs": [
    {
     "name": "stdout",
     "output_type": "stream",
     "text": [
      "The accuracy on the training subset: 0.993\n",
      "The accuracy on the test subset: 0.965\n"
     ]
    }
   ],
   "source": [
    "svm = SVC(C=800)\n",
    "svm.fit(X_train_scaled, y_train) \n",
    "\n",
    "print('The accuracy on the training subset: {:.3f}'.format(svm.score(X_train_scaled, y_train)))\n",
    "print('The accuracy on the test subset: {:.3f}'.format(svm.score(X_test_scaled, y_test)))"
   ]
  },
  {
   "cell_type": "code",
   "execution_count": 11,
   "metadata": {},
   "outputs": [
    {
     "name": "stdout",
     "output_type": "stream",
     "text": [
      "The accuracy on the training subset: 0.993\n",
      "The accuracy on the test subset: 0.972\n"
     ]
    }
   ],
   "source": [
    "svm = SVC(C=1000)\n",
    "svm.fit(X_train_scaled, y_train) \n",
    "\n",
    "print('The accuracy on the training subset: {:.3f}'.format(svm.score(X_train_scaled, y_train)))\n",
    "print('The accuracy on the test subset: {:.3f}'.format(svm.score(X_test_scaled, y_test)))"
   ]
  },
  {
   "cell_type": "code",
   "execution_count": 14,
   "metadata": {},
   "outputs": [
    {
     "data": {
      "text/plain": [
       "SVC(C=1000, cache_size=200, class_weight=None, coef0=0.0,\n",
       "  decision_function_shape='ovr', degree=3, gamma='auto', kernel='rbf',\n",
       "  max_iter=-1, probability=False, random_state=None, shrinking=True,\n",
       "  tol=0.001, verbose=False)"
      ]
     },
     "execution_count": 14,
     "metadata": {},
     "output_type": "execute_result"
    }
   ],
   "source": [
    "svm"
   ]
  },
  {
   "cell_type": "code",
   "execution_count": 15,
   "metadata": {},
   "outputs": [
    {
     "data": {
      "text/plain": [
       "array([1, 0, 0, 1, 0, 1, 0, 0, 0, 1, 0, 0, 1, 1, 1, 1, 1, 0, 0, 0, 1, 0,\n",
       "       0, 1, 1, 0, 1, 1, 1, 0, 1, 1, 1, 1, 1, 1, 0, 0, 0, 1, 0, 0, 0, 0,\n",
       "       1, 1, 1, 1, 1, 1, 0, 1, 1, 1, 1, 1, 1, 1, 1, 1, 1, 1, 1, 0, 0, 0,\n",
       "       0, 1, 1, 0, 1, 1, 1, 1, 1, 0, 1, 1, 1, 0, 1, 1, 0, 0, 0, 1, 1, 1,\n",
       "       1, 1, 1, 0, 0, 1, 0, 0, 1, 1, 1, 0, 0, 1, 0, 1, 1, 1, 0, 0, 1, 1,\n",
       "       1, 0, 1, 1, 1, 1, 1, 1, 1, 1, 1, 1, 1, 1, 0, 0, 1, 0, 1, 1, 1, 0,\n",
       "       1, 1, 1, 1, 0, 1, 0, 1, 0, 1, 0])"
      ]
     },
     "execution_count": 15,
     "metadata": {},
     "output_type": "execute_result"
    }
   ],
   "source": [
    "prediction = svm.predict(X_test_scaled)\n",
    "prediction"
   ]
  },
  {
   "cell_type": "code",
   "execution_count": 26,
   "metadata": {},
   "outputs": [
    {
     "data": {
      "image/png": "[encoded data removed]",
      "text/plain": [
       "<Figure size 720x432 with 1 Axes>"
      ]
     },
     "metadata": {},
     "output_type": "display_data"
    }
   ],
   "source": [
    "import matplotlib.pyplot as plt\n",
    "plt.style.use('Solarize_Light2')\n",
    "%matplotlib inline\n",
    "import matplotlib.pyplot as plt\n",
    "import numpy as np\n",
    "plt.figure(figsize = (10,6))\n",
    "benign_count = len(prediction[prediction == 1])\n",
    "malignant_count = len(prediction[prediction == 0])\n",
    "\n",
    "objects = ('Benign','Malignent')\n",
    "y_pos = np.arange(len(objects))\n",
    "performance = [benign_count, malignant_count ]\n",
    "plt.bar(y_pos, performance, align='center', alpha=0.5, color = ['r', 'g'])\n",
    "plt.xticks(y_pos, objects)\n",
    "plt.ylabel('Count')\n",
    "plt.title('Predicted Results')\n",
    " \n",
    "plt.show()"
   ]
  },
  {
   "cell_type": "code",
   "execution_count": 19,
   "metadata": {},
   "outputs": [
    {
     "data": {
      "text/plain": [
       "array([  3.20184591,  -6.55342151,  -4.8827998 ,   3.89754654,\n",
       "        -3.56843131,   1.52154336, -12.30440402, -12.99166778,\n",
       "        -5.59949531,   4.09443427,  -7.19799382,  -8.26297666,\n",
       "         0.66931256,   1.62005232,   6.02848495,   7.68305787,\n",
       "         5.10725969,  -2.21246242,  -0.56217055,  -2.89576533,\n",
       "         1.37841993, -17.20725073,  -3.1312907 ,   4.55231218,\n",
       "         4.53510815,  -4.23325436,   3.39786496,   2.30834691,\n",
       "         3.61833985,  -5.9485176 ,   0.02587134,   3.60469816,\n",
       "         2.03043175,   4.78971586,   3.4711107 ,   4.41396466,\n",
       "        -4.4985963 ,  -9.80628623,  -7.54596097,   2.55559233,\n",
       "        -6.95436704,  -4.38809099,  -5.01658701,  -3.95836667,\n",
       "         2.98082122,   6.78986069,   5.90484016,   0.35819096,\n",
       "         0.48213587,   6.4705759 ,  -4.39711233,   4.25319115,\n",
       "         5.60164943,   6.86660385,   2.18722983,   3.35779753,\n",
       "         1.90326017,   2.59533605,   1.43799199,   5.13126345,\n",
       "         1.03020458,   2.16589089,   3.09856961,  -9.48858571,\n",
       "        -4.99557693, -10.30112882,  -7.8280095 ,   4.43075697,\n",
       "         2.38599118,  -8.82900659,   4.38306072,   5.43401651,\n",
       "         3.04405493,   5.43065201,   2.86261542,  -3.54592237,\n",
       "         3.02139736,   2.0758294 ,   2.9992361 ,  -0.69667567,\n",
       "         3.95536548,   4.49860994,  -5.94669048,  -8.63075988,\n",
       "        -8.37439039,   3.01625591,   1.48444105,   5.04425716,\n",
       "         1.47729643,   2.94785061,   5.15766861,  -1.40861638,\n",
       "        -6.96447752,   1.8948565 ,  -1.39804527,  -2.85855603,\n",
       "         4.55605497,   6.67003091,   3.4414312 ,  -8.95597298,\n",
       "       -11.00338746,   1.40014262,  -0.03583728,   2.99362036,\n",
       "         2.47638187,   3.80158563,  -9.34397042,  -4.6735116 ,\n",
       "         3.69171454,   4.09542453,   5.49209515, -10.78348948,\n",
       "         1.00917383,   3.90778883,   4.12569802,   1.45336157,\n",
       "         0.70818621,   5.02574065,   2.59448645,   2.84344715,\n",
       "         2.08426904,   0.05856096,   5.29815483,   4.48948209,\n",
       "        -7.63770168,  -0.66452353,   1.91833766,  -4.64350819,\n",
       "         2.40637879,   6.31072187,   5.9064285 , -14.5768088 ,\n",
       "         2.48293409,   2.81851979,   6.45950476,   0.07761194,\n",
       "       -11.13553129,   3.59196135,  -9.48902524,   4.97969783,\n",
       "        -2.93442049,   7.79653009, -12.63526345])"
      ]
     },
     "execution_count": 19,
     "metadata": {},
     "output_type": "execute_result"
    }
   ],
   "source": [
    "predict = svm.decision_function(X_test_scaled)\n",
    "predict"
   ]
  },
  {
   "cell_type": "code",
   "execution_count": 30,
   "metadata": {},
   "outputs": [
    {
     "data": {
      "image/png": "[encoded data removed]",
      "text/plain": [
       "<Figure size 432x288 with 1 Axes>"
      ]
     },
     "metadata": {},
     "output_type": "display_data"
    },
    {
     "data": {
      "image/png": "[encoded data removed]",
      "text/plain": [
       "<Figure size 432x288 with 1 Axes>"
      ]
     },
     "metadata": {},
     "output_type": "display_data"
    }
   ],
   "source": [
    "%matplotlib inline\n",
    "import matplotlib.pyplot as plt\n",
    "import numpy as np\n",
    "\n",
    "plt.figure(figsize = (6,4))\n",
    "benign = list(predict[predict > 0])\n",
    "malignant = list(predict[predict < 0])\n",
    "\n",
    "malignantIndex = []\n",
    "for i in malignant:\n",
    "    malignantIndex.append(malignant.index(i))\n",
    "    \n",
    "benignIndex = []\n",
    "for i in benign:\n",
    "    benignIndex.append(benign.index(i))\n",
    "\n",
    "plt.scatter(benignIndex, benign,  color = \"green\", alpha=0.5)\n",
    "\n",
    "plt.ylabel('Confident Value')\n",
    "plt.title(f'Predicted Results (benign): Count of value: {len(benignIndex)}')\n",
    " \n",
    "plt.show()\n",
    "plt.figure(figsize = (6,4))\n",
    "plt.scatter(malignantIndex,malignant ,  color = \"Red\", alpha=0.5)\n",
    "plt.ylabel('Confident Value')\n",
    "plt.title(f'Predicted Results (malignant): Count of value: {len(malignantIndex)}')\n",
    " \n",
    "plt.show()\n",
    "\n"
   ]
  }
 ],
 "metadata": {
  "kernelspec": {
   "display_name": "Python [conda env:anaconda3]",
   "language": "python",
   "name": "conda-env-anaconda3-py"
  },
  "language_info": {
   "codemirror_mode": {
    "name": "ipython",
    "version": 3
   },
   "file_extension": ".py",
   "mimetype": "text/x-python",
   "name": "python",
   "nbconvert_exporter": "python",
   "pygments_lexer": "ipython3",
   "version": "3.6.5"
  }
 },
 "nbformat": 4,
 "nbformat_minor": 2
}
