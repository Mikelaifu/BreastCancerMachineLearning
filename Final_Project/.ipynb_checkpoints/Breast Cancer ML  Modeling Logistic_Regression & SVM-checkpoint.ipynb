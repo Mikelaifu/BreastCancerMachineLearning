{
 "cells": [
  {
   "cell_type": "markdown",
   "metadata": {},
   "source": [
    "Which model is most accurate? Support Vector Machine (SVM), Decision Tree (C4.5), Naive Bayes (NB) and k Nearest Neighbors (k-NN), random forest, neural network "
   ]
  },
  {
   "cell_type": "markdown",
   "metadata": {},
   "source": [
    "# Logistic Regression"
   ]
  },
  {
   "cell_type": "code",
   "execution_count": 23,
   "metadata": {},
   "outputs": [
    {
     "data": {
      "text/plain": [
       "LogisticRegression(C=1.0, class_weight=None, dual=False, fit_intercept=True,\n",
       "          intercept_scaling=1, max_iter=100, multi_class='ovr', n_jobs=1,\n",
       "          penalty='l2', random_state=None, solver='liblinear', tol=0.0001,\n",
       "          verbose=0, warm_start=False)"
      ]
     },
     "execution_count": 23,
     "metadata": {},
     "output_type": "execute_result"
    }
   ],
   "source": [
    "from sklearn.datasets import load_breast_cancer\n",
    "from sklearn.linear_model import LogisticRegression\n",
    "from sklearn.model_selection import train_test_split\n",
    "import pandas as pd\n",
    "import matplotlib.pyplot as plt\n",
    "%matplotlib inline\n",
    "\n",
    "cancer = pd.read_csv('breast_cancer.csv')\n",
    "\n",
    "\n",
    "\n",
    "X_train, X_test, y_train, y_test = train_test_split(cancer.loc[:,\"mean radius\":\"worst fractal dimension\"],cancer['target'], stratify=cancer['target'], random_state=42)\n",
    "\n",
    "log_reg_model = LogisticRegression()\n",
    "log_reg_model.fit(X_train, y_train)\n",
    "\n"
   ]
  },
  {
   "cell_type": "code",
   "execution_count": 25,
   "metadata": {},
   "outputs": [
    {
     "name": "stdout",
     "output_type": "stream",
     "text": [
      "Accuracy of training set: 0.955\n",
      "Accuracy of  test set: 0.958\n"
     ]
    }
   ],
   "source": [
    "print('Accuracy of training set: {:.3f}'.format(log_reg_model.score(X_train, y_train)))\n",
    "\n",
    "print('Accuracy of  testing set: {:.3f}'.format(log_reg_model.score(X_test, y_test)))"
   ]
  },
  {
   "cell_type": "markdown",
   "metadata": {},
   "source": [
    "### there are some underfitting !!\n",
    "\n",
    "### bying change the paramter to boost the accuracy and correct the overfitting"
   ]
  },
  {
   "cell_type": "code",
   "execution_count": 27,
   "metadata": {},
   "outputs": [
    {
     "data": {
      "text/plain": [
       "LogisticRegression(C=1.0, class_weight=None, dual=False, fit_intercept=True,\n",
       "          intercept_scaling=1, max_iter=100, multi_class='ovr', n_jobs=1,\n",
       "          penalty='l2', random_state=None, solver='liblinear', tol=0.0001,\n",
       "          verbose=0, warm_start=False)"
      ]
     },
     "execution_count": 27,
     "metadata": {},
     "output_type": "execute_result"
    }
   ],
   "source": [
    "log_reg_model "
   ]
  },
  {
   "cell_type": "code",
   "execution_count": 32,
   "metadata": {},
   "outputs": [
    {
     "name": "stdout",
     "output_type": "stream",
     "text": [
      "Accuracy of training set: 0.979\n",
      "Accuracy of  Testing set: 0.965\n"
     ]
    }
   ],
   "source": [
    "logReg100_model = LogisticRegression(C=100)\n",
    "logReg100_model.fit(X_train, y_train)\n",
    "\n",
    "print('Accuracy of training set: {:.3f}'.format(logReg100_model.score(X_train, y_train)))\n",
    "\n",
    "print('Accuracy of  Testing set: {:.3f}'.format(logReg100_model.score(X_test, y_test)))"
   ]
  },
  {
   "cell_type": "markdown",
   "metadata": {},
   "source": [
    "## prediction"
   ]
  },
  {
   "cell_type": "code",
   "execution_count": 37,
   "metadata": {},
   "outputs": [
    {
     "data": {
      "text/plain": [
       "array([1, 0, 1, 1, 1, 0, 0, 0, 0, 1, 1, 1, 0, 0, 1, 1, 0, 0, 1, 1, 0, 0,\n",
       "       1, 1, 1, 1, 1, 1, 1, 0, 1, 1, 1, 1, 1, 1, 1, 1, 0, 1, 0, 1, 0, 1,\n",
       "       1, 1, 0, 1, 0, 1, 1, 1, 1, 0, 1, 1, 1, 0, 0, 0, 1, 0, 0, 0, 1, 1,\n",
       "       0, 1, 1, 1, 1, 1, 1, 1, 1, 0, 0, 0, 0, 1, 1, 1, 1, 1, 0, 1, 0, 1,\n",
       "       1, 1, 1, 0, 1, 1, 0, 0, 0, 1, 0, 1, 0, 0, 0, 1, 1, 0, 1, 1, 0, 1,\n",
       "       0, 0, 1, 1, 1, 0, 1, 1, 1, 0, 1, 1, 0, 1, 0, 1, 1, 0, 1, 1, 1, 1,\n",
       "       1, 0, 0, 1, 1, 1, 1, 1, 1, 1, 1])"
      ]
     },
     "execution_count": 37,
     "metadata": {},
     "output_type": "execute_result"
    }
   ],
   "source": [
    "prediction = logReg100_model.predict(X_test)\n",
    "prediction"
   ]
  },
  {
   "cell_type": "markdown",
   "metadata": {},
   "source": [
    "## uncertainty Estimation"
   ]
  },
  {
   "cell_type": "code",
   "execution_count": 57,
   "metadata": {},
   "outputs": [
    {
     "name": "stdout",
     "output_type": "stream",
     "text": [
      "The decision function is(the confidence of each result predicted(pos - Benign, neg - Malignant): \n",
      "\n",
      "[ 5.03142967e+00 -9.58906807e+00  1.79329783e+00  2.89175849e+00\n",
      "  8.12534884e-01 -2.37488337e+01 -5.71607142e+00 -1.44966993e+01\n",
      " -7.61105878e+00  7.60246291e+00  1.50201468e-01  9.21334412e+00\n",
      " -2.13281375e+01 -1.76419072e+01  4.31898229e+00  7.68040121e+00\n",
      " -2.57512446e+01 -3.85245537e+00  3.06976961e+00  6.91466875e+00\n",
      " -1.57806034e+01 -6.93133328e+00  4.77331249e+00  6.97948589e+00\n",
      "  1.18130869e+01  5.44775321e+00  1.17717239e+01  9.46823195e+00\n",
      "  5.20953334e+00 -1.75439040e+01  7.14804776e+00  3.79646012e+00\n",
      "  3.76015476e+00  7.80807642e+00  9.19795887e+00  9.30978170e+00\n",
      "  5.16128125e+00  6.29811834e+00 -3.61462044e+01  1.47070471e+01\n",
      " -4.03276645e+01  9.05474257e+00 -1.74839577e+01  2.79089410e+00\n",
      "  3.54439990e+00  7.23628851e+00 -5.41887601e+00  8.23524980e+00\n",
      " -4.72993115e+00  4.08496005e+00  6.68743653e+00  7.74278385e+00\n",
      "  7.59834776e+00 -1.62861060e+01  5.24226695e+00  2.80489455e+00\n",
      "  1.60976714e+01 -2.04445390e+01 -2.78421584e+01 -2.94832196e+01\n",
      "  7.62970784e+00 -2.02294762e+01 -1.76284106e+00 -3.71904471e+01\n",
      "  5.22534904e+00  3.72647595e+00 -4.04005978e+01  5.05609052e+00\n",
      "  8.93996016e+00  8.68990714e+00  7.65155953e+00  5.64755764e+00\n",
      "  6.17931545e+00  7.30525669e+00  8.91888030e+00 -1.61354667e+01\n",
      " -9.27982724e+00 -1.50337532e+01 -1.36447907e+02  1.17149577e+01\n",
      "  5.51751402e+00  9.29832819e+00  1.14988037e+00  4.13810773e+00\n",
      " -2.47040294e+01  5.59688022e+00 -5.71438961e+00  8.71798696e+00\n",
      "  4.91279210e+00  1.14848102e+01  8.79773654e+00 -1.75607490e+01\n",
      "  1.80424679e+00  8.37435854e+00 -1.15808581e+00 -3.68089131e+01\n",
      " -2.19935318e+01  7.37849712e+00 -7.44360299e+00  1.12325162e+01\n",
      " -7.51449321e+00 -5.73482131e+01 -1.62057943e+01  1.25134233e+01\n",
      "  3.20080036e+00 -8.24482195e+00  2.36238850e+00  7.01245587e+00\n",
      " -2.34689952e+01  9.56430717e+00 -9.18457909e+00 -1.30247519e+00\n",
      "  9.64297776e+00  1.13134101e-03  2.40160693e+00 -7.78282672e+00\n",
      "  1.88229441e+00  5.12051101e+00  2.36627073e+00 -6.62952885e+00\n",
      "  9.03334542e+00  5.75050301e+00 -3.21447728e+01  5.31368820e+00\n",
      " -4.67336384e+00  4.92881111e+00  6.87993257e+00 -2.61909487e+01\n",
      "  1.02690392e+01  7.36537509e+00  1.60272448e+00  5.53930583e+00\n",
      "  5.49514599e+00 -5.53573876e-01 -1.84437828e+01  2.56596476e+00\n",
      "  1.11865974e+01  6.21016767e+00  1.60058038e+00  5.12011205e+00\n",
      "  8.74932608e+00  6.45653249e+00  1.10184360e+01]\n",
      "------------------------------------------------\n",
      "Thresholded decision function (whether result is predicted as Benign) :\n",
      "\n",
      "[ True False  True  True  True False False False False  True  True  True\n",
      " False False  True  True False False  True  True False False  True  True\n",
      "  True  True  True  True  True False  True  True  True  True  True  True\n",
      "  True  True False  True False  True False  True  True  True False  True\n",
      " False  True  True  True  True False  True  True  True False False False\n",
      "  True False False False  True  True False  True  True  True  True  True\n",
      "  True  True  True False False False False  True  True  True  True  True\n",
      " False  True False  True  True  True  True False  True  True False False\n",
      " False  True False  True False False False  True  True False  True  True\n",
      " False  True False False  True  True  True False  True  True  True False\n",
      "  True  True False  True False  True  True False  True  True  True  True\n",
      "  True False False  True  True  True  True  True  True  True  True]\n"
     ]
    }
   ],
   "source": [
    "print('The decision function is(the confidence of each result predicted(pos - Benign, neg - Malignant): \\n\\n{}'.format(logReg100_model.decision_function(X_test)))\n",
    "print(\"------------------------------------------------\")\n",
    "print('Thresholded decision function (whether result is predicted as Benign) :\\n\\n{}'.format(logReg100_model.decision_function(X_test)>0))\n"
   ]
  },
  {
   "cell_type": "markdown",
   "metadata": {},
   "source": [
    "### Logistic Regression Visualization "
   ]
  },
  {
   "cell_type": "code",
   "execution_count": 54,
   "metadata": {},
   "outputs": [
    {
     "data": {
      "image/png": "[encoded data removed]",
      "text/plain": [
       "<Figure size 432x288 with 1 Axes>"
      ]
     },
     "metadata": {},
     "output_type": "display_data"
    }
   ],
   "source": [
    "%matplotlib inline\n",
    "import matplotlib.pyplot as plt\n",
    "import numpy as np\n",
    "benign_count = len(prediction[prediction == 1])\n",
    "malignant_count = len(prediction[prediction == 0])\n",
    "\n",
    "objects = ('Benign','Malignent')\n",
    "y_pos = np.arange(len(objects))\n",
    "performance = [benign_count, malignant_count ]\n",
    "plt.bar(y_pos, performance, align='center', alpha=0.5)\n",
    "plt.xticks(y_pos, objects)\n",
    "plt.ylabel('Count')\n",
    "plt.title('Predicted Results')\n",
    " \n",
    "plt.show()"
   ]
  },
  {
   "cell_type": "markdown",
   "metadata": {},
   "source": [
    "# Support Vector Machine"
   ]
  },
  {
   "cell_type": "code",
   "execution_count": 65,
   "metadata": {},
   "outputs": [
    {
     "name": "stdout",
     "output_type": "stream",
     "text": [
      "The accuracy on the training subset: 1.000\n",
      "The accuracy on the testing subset: 0.629\n"
     ]
    }
   ],
   "source": [
    "from sklearn.svm import SVC\n",
    "from sklearn.model_selection import train_test_split\n",
    "\n",
    "import pandas as pd\n",
    "import matplotlib.pyplot as plt\n",
    "%matplotlib inline\n",
    "\n",
    "cancer = pd.read_csv('breast_cancer.csv')\n",
    "\n",
    "\n",
    "\n",
    "X_train, X_test, y_train, y_test = train_test_split(cancer.loc[:,\"mean radius\":\"worst fractal dimension\"],cancer['target'], stratify=cancer['target'], random_state=0)\n",
    "\n",
    "svm_model = SVC()\n",
    "svm_model.fit(X_train, y_train)\n",
    "\n",
    "print('The accuracy on the training subset: {:.3f}'.format(svm_model.score(X_train, y_train)))\n",
    "print('The accuracy on the testing subset: {:.3f}'.format(svm_model.score(X_test, y_test)))"
   ]
  },
  {
   "cell_type": "code",
   "execution_count": 66,
   "metadata": {},
   "outputs": [
    {
     "data": {
      "text/plain": [
       "<matplotlib.legend.Legend at 0x1a1f30a710>"
      ]
     },
     "execution_count": 66,
     "metadata": {},
     "output_type": "execute_result"
    },
    {
     "data": {
      "image/png": "[encoded data removed]",
      "text/plain": [
       "<Figure size 432x288 with 1 Axes>"
      ]
     },
     "metadata": {},
     "output_type": "display_data"
    }
   ],
   "source": [
    "import matplotlib.pyplot as plt\n",
    "%matplotlib inline \n",
    "\n",
    "plt.plot(X_train.min(axis=0), 'o', label = \"Min\")\n",
    "plt.plot(X_train.max(axis=0), 'v', label = \"Max\")\n",
    "plt.xlabel(\"Feature Index\")\n",
    "plt.ylabel(\"feature mag in log scale\")\n",
    "plt.yscale(\"log\")\n",
    "plt.legend()"
   ]
  },
  {
   "cell_type": "markdown",
   "metadata": {},
   "source": [
    "#### we have a overfitting Siuation\n",
    "\n",
    "Scale the data feature and modify the paramaters"
   ]
  },
  {
   "cell_type": "code",
   "execution_count": 67,
   "metadata": {},
   "outputs": [
    {
     "ename": "NameError",
     "evalue": "name 'X_train_scaled' is not defined",
     "output_type": "error",
     "traceback": [
      "\u001b[0;31m---------------------------------------------------------------------------\u001b[0m",
      "\u001b[0;31mNameError\u001b[0m                                 Traceback (most recent call last)",
      "\u001b[0;32m<ipython-input-67-84c51907108e>\u001b[0m in \u001b[0;36m<module>\u001b[0;34m()\u001b[0m\n\u001b[1;32m      1\u001b[0m \u001b[0msvm\u001b[0m \u001b[0;34m=\u001b[0m \u001b[0mSVC\u001b[0m\u001b[0;34m(\u001b[0m\u001b[0mC\u001b[0m\u001b[0;34m=\u001b[0m\u001b[0;36m800\u001b[0m\u001b[0;34m)\u001b[0m\u001b[0;34m\u001b[0m\u001b[0m\n\u001b[0;32m----> 2\u001b[0;31m \u001b[0msvm\u001b[0m\u001b[0;34m.\u001b[0m\u001b[0mfit\u001b[0m\u001b[0;34m(\u001b[0m\u001b[0mX_train_scaled\u001b[0m\u001b[0;34m,\u001b[0m \u001b[0my_train\u001b[0m\u001b[0;34m)\u001b[0m\u001b[0;34m\u001b[0m\u001b[0m\n\u001b[0m",
      "\u001b[0;31mNameError\u001b[0m: name 'X_train_scaled' is not defined"
     ]
    }
   ],
   "source": []
  },
  {
   "cell_type": "code",
   "execution_count": null,
   "metadata": {},
   "outputs": [],
   "source": []
  },
  {
   "cell_type": "code",
   "execution_count": null,
   "metadata": {},
   "outputs": [],
   "source": []
  },
  {
   "cell_type": "code",
   "execution_count": null,
   "metadata": {},
   "outputs": [],
   "source": []
  },
  {
   "cell_type": "code",
   "execution_count": null,
   "metadata": {},
   "outputs": [],
   "source": []
  },
  {
   "cell_type": "markdown",
   "metadata": {},
   "source": [
    "# Decison Tree"
   ]
  },
  {
   "cell_type": "code",
   "execution_count": null,
   "metadata": {},
   "outputs": [],
   "source": []
  },
  {
   "cell_type": "code",
   "execution_count": null,
   "metadata": {},
   "outputs": [],
   "source": []
  },
  {
   "cell_type": "code",
   "execution_count": null,
   "metadata": {},
   "outputs": [],
   "source": []
  },
  {
   "cell_type": "markdown",
   "metadata": {},
   "source": [
    "# Random Forest"
   ]
  },
  {
   "cell_type": "code",
   "execution_count": null,
   "metadata": {},
   "outputs": [],
   "source": []
  },
  {
   "cell_type": "code",
   "execution_count": null,
   "metadata": {},
   "outputs": [],
   "source": []
  },
  {
   "cell_type": "code",
   "execution_count": null,
   "metadata": {},
   "outputs": [],
   "source": []
  },
  {
   "cell_type": "code",
   "execution_count": null,
   "metadata": {},
   "outputs": [],
   "source": []
  },
  {
   "cell_type": "code",
   "execution_count": null,
   "metadata": {},
   "outputs": [],
   "source": []
  }
 ],
 "metadata": {
  "kernelspec": {
   "display_name": "Python [default]",
   "language": "python",
   "name": "python3"
  },
  "language_info": {
   "codemirror_mode": {
    "name": "ipython",
    "version": 3
   },
   "file_extension": ".py",
   "mimetype": "text/x-python",
   "name": "python",
   "nbconvert_exporter": "python",
   "pygments_lexer": "ipython3",
   "version": "3.6.5"
  }
 },
 "nbformat": 4,
 "nbformat_minor": 2
}
